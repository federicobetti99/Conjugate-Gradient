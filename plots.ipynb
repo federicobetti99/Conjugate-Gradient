{
 "cells": [
  {
   "cell_type": "markdown",
   "id": "a32dde93",
   "metadata": {},
   "source": [
    "# Results visualization for Conjugate Gradient"
   ]
  },
  {
   "cell_type": "markdown",
   "id": "24164199",
   "metadata": {},
   "source": [
    "This notebook is intended to show the obtained results for the MPI and CUDA implementation of the conjugate gradient algorithm. For the correct working of the code, please make sure that the results folder is filled with the necessary .txt files"
   ]
  },
  {
   "cell_type": "code",
   "execution_count": 10,
   "id": "3c82b491",
   "metadata": {},
   "outputs": [],
   "source": [
    "import matplotlib\n",
    "import matplotlib.pyplot as plt\n",
    "import numpy as np\n",
    "\n",
    "def show_MPI_results():\n",
    "    \"\"\"\n",
    "    Produces a couple of plots for hard scaling speedup and weak scaling efficiency for synchronous or asynchronous MPI\n",
    "    :param results_file: .txt file containing the results\n",
    "    \"\"\"\n",
    "    \n",
    "    folder = f'results'\n",
    "    \n",
    "    results_strong = {}\n",
    "    results_weak = []\n",
    "\n",
    "    with open(folder + f\"/strong_scaling.txt\") as f:\n",
    "        for line in f:\n",
    "            currentline = line.rstrip(\"\\n\").split(\",\")\n",
    "            if int(currentline[0]) not in results_strong.keys():\n",
    "                results_strong[int(currentline[0])] = {int(currentline[1]): float(currentline[2])}\n",
    "            else:\n",
    "                results_strong[int(currentline[0])].update({int(currentline[1]): float(currentline[2])})\n",
    "\n",
    "    with open(folder + f\"/weak_scaling.txt\") as f:\n",
    "        for line in f:\n",
    "            currentline = line.rstrip(\"\\n\").split(\",\")\n",
    "            results_weak.append([int(currentline[1]), float(currentline[2])])\n",
    "            \n",
    "    plt.figure()\n",
    "\n",
    "    fig, ax = plt.subplots(1, 2, figsize=(14, 7))\n",
    "\n",
    "    for key in results_strong.keys():\n",
    "        psizes = [results_strong[key][0] for item in range(len(results_strong))]\n",
    "        times = [results_strong[item][1] for item in range(len(results_strong))]\n",
    "        ax[0].loglog(psizes, times[0]/np.array(times), label=f\"N = {key}\", marker=\"o\")\n",
    "    ax[0].xaxis.label.set_size(25)\n",
    "    ax[0].yaxis.label.set_size(25)\n",
    "    ax[0].axvline(36, ymin=0, ymax=50, linestyle='--', color=\"black\", label=\"p=36\")\n",
    "    ax[0].tick_params(axis='x', labelsize=25)\n",
    "    ax[0].tick_params(axis='y', labelsize=25)\n",
    "    ax[0].set_xlabel(\"p\", fontsize=30)\n",
    "    ax[0].set_ylabel(\"$S_p$\", fontsize=30)\n",
    "    ax[0].set_xticks(psizes)\n",
    "    ax[0].get_xaxis().set_major_formatter(matplotlib.ticker.ScalarFormatter())\n",
    "    ax[0].set_title(\"Hard scaling speedup\", fontsize=25)\n",
    "    ax[0].plot(sorted(psizes), sorted(psizes), marker=\"x\", label=f\"Ideal\")\n",
    "    ax[0].legend(loc='upper left', ncol=1, fontsize=15)\n",
    "    \n",
    "    psizes = [results_weak[item][0] for item in len(results_weak)]\n",
    "    times  = [results_weak[item][1] for item in len(results_weak)]\n",
    "    ax[1].xaxis.label.set_size(30)\n",
    "    ax[1].yaxis.label.set_size(30)\n",
    "    ax[1].set_ylim([0, 1.05])\n",
    "    ax[1].axvline(28, ymin=0, ymax=1, linestyle='--', color=\"black\", label=\"p=28\")\n",
    "    ax[1].tick_params(axis='x', labelsize=30)\n",
    "    ax[1].tick_params(axis='y', labelsize=30)\n",
    "    ax[1].semilogx(psizes, times[0]/(np.array(times)), marker=\"o\", label=f\"Efficiency\")\n",
    "    ax[1].set_title(\"Weak scaling efficiency\", fontsize=30)\n",
    "    ax[1].set_xlabel(\"p\", fontsize=35)\n",
    "    ax[1].set_ylabel(\"$E_p$\", fontsize=35)\n",
    "    ax[1].legend(loc='lower left', ncol=1, fontsize=20)\n",
    "    \n",
    "    plt.show()\n",
    "    \n",
    "    \n",
    "def show_CUDA_results():\n",
    "    \"\"\"\n",
    "    Produces a couple of plots for hard scaling speedup and weak scaling efficiency for synchronous or asynchronous MPI\n",
    "    :param results_file: .txt file containing the results\n",
    "    \"\"\"\n",
    "    \n",
    "    threads = []\n",
    "    times = []\n",
    "    \n",
    "    folder = f'results'\n",
    "    with open(folder + f\"/CUDA.txt\") as f:\n",
    "        for line in f:\n",
    "            currentline = line.rstrip(\"\\n\").split(\",\")\n",
    "            threads.append(int(currentline[0]))\n",
    "            times.append(float(currentline[2]))\n",
    "            \n",
    "    fig, ax = plt.subplots(1, 1, figsize=(8, 4))\n",
    "    \n",
    "    ax.plot(threads, times, label=r\"$p$\", marker=\"o\")\n",
    "    ax.set_xscale(\"log\")\n",
    "    ax.set_xticks(threads)\n",
    "    ax.tick_params(axis='both', which='major', labelsize=14)\n",
    "    ax.set_xlabel(\"Total number of threads per block\", fontsize=20)\n",
    "    ax.set_ylabel(\"Running time\", fontsize=20)\n",
    "    ax.get_xaxis().set_major_formatter(matplotlib.ticker.ScalarFormatter())\n",
    "    ax.set_title(\"Conjugate Gradient - CUDA\", fontsize=20)\n",
    "    plt.legend(loc=\"upper left\", fontsize=15)\n",
    "    plt.show()"
   ]
  },
  {
   "cell_type": "markdown",
   "id": "781f463d",
   "metadata": {},
   "source": [
    "### MPI"
   ]
  },
  {
   "cell_type": "code",
   "execution_count": 12,
   "id": "9812d834",
   "metadata": {},
   "outputs": [
    {
     "ename": "TypeError",
     "evalue": "show_MPI_results() missing 1 required positional argument: 'synchronization'",
     "output_type": "error",
     "traceback": [
      "\u001b[1;31m---------------------------------------------------------------------------\u001b[0m",
      "\u001b[1;31mTypeError\u001b[0m                                 Traceback (most recent call last)",
      "\u001b[1;32m<ipython-input-12-b81f8c46f289>\u001b[0m in \u001b[0;36m<module>\u001b[1;34m\u001b[0m\n\u001b[1;32m----> 1\u001b[1;33m \u001b[0mshow_MPI_results\u001b[0m\u001b[1;33m(\u001b[0m\u001b[1;33m)\u001b[0m\u001b[1;33m\u001b[0m\u001b[1;33m\u001b[0m\u001b[0m\n\u001b[0m",
      "\u001b[1;31mTypeError\u001b[0m: show_MPI_results() missing 1 required positional argument: 'synchronization'"
     ]
    }
   ],
   "source": [
    "show_MPI_results()"
   ]
  },
  {
   "cell_type": "markdown",
   "id": "c00448c9",
   "metadata": {},
   "source": [
    "### CUDA"
   ]
  },
  {
   "cell_type": "code",
   "execution_count": 11,
   "id": "5b60557b",
   "metadata": {},
   "outputs": [
    {
     "data": {
      "image/png": "[encoded data removed]",
      "text/plain": [
       "<Figure size 576x288 with 1 Axes>"
      ]
     },
     "metadata": {
      "needs_background": "light"
     },
     "output_type": "display_data"
    }
   ],
   "source": [
    "show_CUDA_results()    "
   ]
  }
 ],
 "metadata": {
  "kernelspec": {
   "display_name": "Python 3",
   "language": "python",
   "name": "python3"
  },
  "language_info": {
   "codemirror_mode": {
    "name": "ipython",
    "version": 3
   },
   "file_extension": ".py",
   "mimetype": "text/x-python",
   "name": "python",
   "nbconvert_exporter": "python",
   "pygments_lexer": "ipython3",
   "version": "3.8.8"
  }
 },
 "nbformat": 4,
 "nbformat_minor": 5
}
